{
 "cells": [
  {
   "cell_type": "code",
   "execution_count": 1,
   "id": "2c292b8f-3afd-4d7c-9413-1c93c7d9fd5d",
   "metadata": {},
   "outputs": [],
   "source": [
    "import math_utlis as m \n",
    "import string_utility as st"
   ]
  },
  {
   "cell_type": "code",
   "execution_count": null,
   "id": "3e646393-742e-4fb1-8a3e-47625947c96f",
   "metadata": {},
   "outputs": [],
   "source": [
    "# ADDITION"
   ]
  },
  {
   "cell_type": "code",
   "execution_count": 2,
   "id": "c3c04779-47cc-4fd8-ab5d-906560ced2f1",
   "metadata": {},
   "outputs": [
    {
     "name": "stdin",
     "output_type": "stream",
     "text": [
      "Enter your first number: 5\n",
      "Enter your second number: 6\n"
     ]
    },
    {
     "data": {
      "text/plain": [
       "11"
      ]
     },
     "execution_count": 2,
     "metadata": {},
     "output_type": "execute_result"
    }
   ],
   "source": [
    "\n",
    "a = int(input(\"Enter your first number:\"))\n",
    "b = int(input(\"Enter your second number:\"))\n",
    "\n",
    "m.add(a,b)"
   ]
  },
  {
   "cell_type": "code",
   "execution_count": null,
   "id": "0a4d96e5-3275-4ccd-a7ea-94db4e4071c2",
   "metadata": {},
   "outputs": [],
   "source": [
    "# SUBTRACTION"
   ]
  },
  {
   "cell_type": "code",
   "execution_count": 3,
   "id": "9b5e6e53-897e-44c4-9c2c-6dacb76db0e0",
   "metadata": {},
   "outputs": [
    {
     "name": "stdin",
     "output_type": "stream",
     "text": [
      "Enter your first number: 8\n",
      "Enter your second number: 1\n"
     ]
    },
    {
     "data": {
      "text/plain": [
       "7"
      ]
     },
     "execution_count": 3,
     "metadata": {},
     "output_type": "execute_result"
    }
   ],
   "source": [
    "a = int(input(\"Enter your first number:\"))\n",
    "b = int(input(\"Enter your second number:\"))\n",
    "\n",
    "m.sub(a,b)"
   ]
  },
  {
   "cell_type": "code",
   "execution_count": null,
   "id": "806f68f8-3969-4987-a301-00a042641c2e",
   "metadata": {},
   "outputs": [],
   "source": [
    "# MULTIPLICATION"
   ]
  },
  {
   "cell_type": "code",
   "execution_count": 4,
   "id": "62df685b-2941-44d0-89d9-810bc6b1611a",
   "metadata": {},
   "outputs": [
    {
     "name": "stdin",
     "output_type": "stream",
     "text": [
      "Enter your first number: 5\n",
      "Enter your second number: 2\n"
     ]
    },
    {
     "data": {
      "text/plain": [
       "10"
      ]
     },
     "execution_count": 4,
     "metadata": {},
     "output_type": "execute_result"
    }
   ],
   "source": [
    "a = int(input(\"Enter your first number:\"))\n",
    "b = int(input(\"Enter your second number:\"))\n",
    "\n",
    "m.mul(a,b)"
   ]
  },
  {
   "cell_type": "code",
   "execution_count": null,
   "id": "1f17052c-f6ec-47b8-a7a7-5a3295794ca2",
   "metadata": {},
   "outputs": [],
   "source": [
    "# DIVISION"
   ]
  },
  {
   "cell_type": "code",
   "execution_count": 5,
   "id": "e81e783f-d8c9-489d-82c9-0c6e6d9938d0",
   "metadata": {},
   "outputs": [
    {
     "name": "stdin",
     "output_type": "stream",
     "text": [
      "Enter your first number: 7\n",
      "Enter your second number: 2\n"
     ]
    },
    {
     "data": {
      "text/plain": [
       "3.5"
      ]
     },
     "execution_count": 5,
     "metadata": {},
     "output_type": "execute_result"
    }
   ],
   "source": [
    "a = int(input(\"Enter your first number:\"))\n",
    "b = int(input(\"Enter your second number:\"))\n",
    "\n",
    "m.div(a,b)"
   ]
  },
  {
   "cell_type": "code",
   "execution_count": null,
   "id": "fbb916bd-56d5-4165-ae30-89b39244bf21",
   "metadata": {},
   "outputs": [],
   "source": []
  },
  {
   "cell_type": "code",
   "execution_count": 6,
   "id": "cd8d6990-a440-4426-a954-95c236f6bb19",
   "metadata": {},
   "outputs": [],
   "source": [
    "#STRING:-"
   ]
  },
  {
   "cell_type": "code",
   "execution_count": null,
   "id": "4af61371-56a6-4170-bb78-cb45cbda220b",
   "metadata": {},
   "outputs": [],
   "source": [
    "# count the nuber of vowels :-"
   ]
  },
  {
   "cell_type": "code",
   "execution_count": 10,
   "id": "4d895ba0-fe48-4be4-9d30-908ac1aea8c5",
   "metadata": {},
   "outputs": [
    {
     "name": "stdin",
     "output_type": "stream",
     "text": [
      "Enter your second number: coaching\n"
     ]
    },
    {
     "name": "stdout",
     "output_type": "stream",
     "text": [
      "Total vowels 3\n"
     ]
    }
   ],
   "source": [
    "import string_utility as st\n",
    "\n",
    "a = input(\"Enter your second number:\")\n",
    "\n",
    "st.count_vowels(a)"
   ]
  },
  {
   "cell_type": "code",
   "execution_count": null,
   "id": "032db3c6-2ffc-4944-9490-eca9d40c7422",
   "metadata": {},
   "outputs": [],
   "source": [
    "#reverse the sentences:-"
   ]
  },
  {
   "cell_type": "code",
   "execution_count": 11,
   "id": "35f43a18-49ab-4f84-989a-d78b96765c1b",
   "metadata": {},
   "outputs": [
    {
     "name": "stdin",
     "output_type": "stream",
     "text": [
      "Enter your second number: i love pyhton programming languange\n"
     ]
    },
    {
     "data": {
      "text/plain": [
       "'egnaugnal gnimmargorp nothyp evol i'"
      ]
     },
     "execution_count": 11,
     "metadata": {},
     "output_type": "execute_result"
    }
   ],
   "source": [
    "x = input(\"Enter your second number:\")\n",
    "\n",
    "st.reverse_string(x)"
   ]
  },
  {
   "cell_type": "code",
   "execution_count": null,
   "id": "4b1fa395-24b1-494b-8b3b-0fe6f55ecd14",
   "metadata": {},
   "outputs": [],
   "source": []
  },
  {
   "cell_type": "code",
   "execution_count": 14,
   "id": "a9ecba60-464e-44ab-8298-ccc5b1df9cd5",
   "metadata": {},
   "outputs": [
    {
     "name": "stdin",
     "output_type": "stream",
     "text": [
      "Enter your second number: pyhtion\n"
     ]
    },
    {
     "name": "stdout",
     "output_type": "stream",
     "text": [
      " not palindromic\n"
     ]
    }
   ],
   "source": [
    "b = input(\"Enter your second number:\")\n",
    "\n",
    "st.is_palindrome(b)\n"
   ]
  },
  {
   "cell_type": "code",
   "execution_count": null,
   "id": "99751a10-32e3-4394-bf0d-f7d774f36d2b",
   "metadata": {},
   "outputs": [],
   "source": []
  }
 ],
 "metadata": {
  "kernelspec": {
   "display_name": "Python 3 (ipykernel)",
   "language": "python",
   "name": "python3"
  },
  "language_info": {
   "codemirror_mode": {
    "name": "ipython",
    "version": 3
   },
   "file_extension": ".py",
   "mimetype": "text/x-python",
   "name": "python",
   "nbconvert_exporter": "python",
   "pygments_lexer": "ipython3",
   "version": "3.12.7"
  }
 },
 "nbformat": 4,
 "nbformat_minor": 5
}
