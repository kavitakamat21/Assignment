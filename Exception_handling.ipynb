{
 "cells": [
  {
   "cell_type": "code",
   "execution_count": null,
   "id": "6d658366-489e-4f2d-acf3-275ba4314a6f",
   "metadata": {},
   "outputs": [],
   "source": [
    "#  Assignment Questions: (Exception Handling in Python)\n",
    "\n",
    "# 1. Divide two numbers entered by the user and handle the ZeroDivisionError if the denominator is zero.\n",
    "# 2. Accept a number from the user and convert it to an integer. Handle the case where the user enters invalid input like a string.\n",
    "# 3. Create a program that opens a file and reads its content. Handle the FileNotFoundError if the file does not exist.\n",
    "# 4. Write a program to access an index in a list that may be out of range. Handle the IndexError.\n",
    "# 5. Create a dictionary and try to access a key that may not exist. Handle the KeyError.\n",
    "# 6. Raise a custom exception NegativeAgeError if the user enters a negative number for age.\n",
    "# 7. Create a finally block that always prints “End of program” even if an exception occurs or not.\n",
    "# 8. Write a program to handle multiple exceptions (ValueError and ZeroDivisionError) in a single block.\n",
    "# 9. Raise a ValueError manually when a string is passed instead of a number.\n",
    "# 10. Write a program that uses try, except, else, and finally blocks to divide two numbers."
   ]
  },
  {
   "cell_type": "code",
   "execution_count": null,
   "id": "55e9fbb9-1d14-4f8f-aad8-a2263be1f02b",
   "metadata": {},
   "outputs": [],
   "source": [
    "# File Modes\n",
    "\n",
    "# Mode\tDescription\n",
    "# 'r'\tRead (default); error if file doesn't exist\n",
    "# 'w'\tWrite; creates new file or overwrites\n",
    "# 'a'\tAppend; creates file if not exists, adds data\n",
    "# 'x'\tCreate new file; error if file exists\n",
    "# 'b'\tBinary mode (e.g., 'rb', 'wb')\n",
    "# 't'\tText mode (default, e.g., 'rt', 'wt')"
   ]
  },
  {
   "cell_type": "code",
   "execution_count": null,
   "id": "14d683d8-7d12-4b90-b1e7-614bffb1036c",
   "metadata": {},
   "outputs": [],
   "source": []
  },
  {
   "cell_type": "code",
   "execution_count": null,
   "id": "00fed588-6792-490d-844b-5d37dddee4c2",
   "metadata": {},
   "outputs": [],
   "source": [
    "# 1. Divide two numbers entered by the user and handle the ZeroDivisionError if the denominator is zero."
   ]
  },
  {
   "cell_type": "code",
   "execution_count": 36,
   "id": "9fcdace5-7442-4eb2-9bd0-583f8592b73f",
   "metadata": {},
   "outputs": [
    {
     "name": "stdin",
     "output_type": "stream",
     "text": [
      "Enter the number: 8\n",
      "Enter the number: 0\n"
     ]
    },
    {
     "name": "stdout",
     "output_type": "stream",
     "text": [
      "Its an error, division by zero\n",
      "<class 'ZeroDivisionError'>\n"
     ]
    }
   ],
   "source": [
    "import sys\n",
    "numerator = int(input(\"Enter the number:\"))\n",
    "denominator = int(input(\"Enter the number:\"))\n",
    "\n",
    "try:\n",
    "   if denominator == 0:\n",
    "    result = numerator/denominator\n",
    "except Exception as e:\n",
    "   print(\"Its an error,\", e)\n",
    "   print(sys.exc_info()[0]) \n",
    "else:\n",
    "    print(\"Result:\", result)    "
   ]
  },
  {
   "cell_type": "code",
   "execution_count": null,
   "id": "7e31fd18-a878-4286-9bab-4ec1932999cf",
   "metadata": {},
   "outputs": [],
   "source": []
  },
  {
   "cell_type": "code",
   "execution_count": 37,
   "id": "064ef5e0-e85c-4e92-9e96-39161009eabe",
   "metadata": {},
   "outputs": [],
   "source": [
    "# 2. Accept a number from the user and convert it to an integer. Handle the case where the user enters invalid input like a string."
   ]
  },
  {
   "cell_type": "code",
   "execution_count": 3,
   "id": "dca345dc-e6d3-4d12-afa7-9199f4e4e936",
   "metadata": {},
   "outputs": [
    {
     "name": "stdin",
     "output_type": "stream",
     "text": [
      "Enter the number: oiuy\n"
     ]
    },
    {
     "name": "stdout",
     "output_type": "stream",
     "text": [
      "Please enter the only number, invalid literal for int() with base 10: 'oiuy'\n",
      "<class 'ValueError'>\n"
     ]
    }
   ],
   "source": [
    "import sys\n",
    "try:\n",
    "   number =input(\"Enter the number:\")\n",
    "   int(number)\n",
    "   print(f\"Entered valid number {number}\")\n",
    "except Exception as e:\n",
    "   print(\"Please enter the only number,\", e)\n",
    "   print(sys.exc_info()[0]) \n",
    "    "
   ]
  },
  {
   "cell_type": "code",
   "execution_count": null,
   "id": "29c1252e-5863-4829-b352-a6709c666044",
   "metadata": {},
   "outputs": [],
   "source": []
  },
  {
   "cell_type": "code",
   "execution_count": 54,
   "id": "9c41332f-5aa5-4c29-9591-92817716f577",
   "metadata": {},
   "outputs": [],
   "source": [
    "# 3. Create a program that opens a file and reads its content. Handle the FileNotFoundError if the file does not exist."
   ]
  },
  {
   "cell_type": "code",
   "execution_count": 61,
   "id": "4689b55b-1ff1-4658-8407-ca5a5a605225",
   "metadata": {},
   "outputs": [
    {
     "name": "stdout",
     "output_type": "stream",
     "text": [
      "This file doesn't exist [Errno 2] No such file or directory: 'file.txt'\n"
     ]
    }
   ],
   "source": [
    "try:\n",
    "    with open(\"file.txt\") as file:\n",
    "        read_data = file.read()\n",
    "except FileNotFoundError as fnf_error:\n",
    "    print(\"This file doesn't exist\",fnf_error)"
   ]
  },
  {
   "cell_type": "code",
   "execution_count": null,
   "id": "f4daad27-29c3-401f-b8b8-e8884602fde3",
   "metadata": {},
   "outputs": [],
   "source": []
  },
  {
   "cell_type": "code",
   "execution_count": 62,
   "id": "9cd47533-a19a-462f-b834-565b0be7a670",
   "metadata": {},
   "outputs": [],
   "source": [
    "# 4. Write a program to access an index in a list that may be out of range. Handle the IndexError."
   ]
  },
  {
   "cell_type": "code",
   "execution_count": null,
   "id": "c51e3ad3-5da4-4bf9-9d07-f97a4c48d2e1",
   "metadata": {},
   "outputs": [],
   "source": []
  },
  {
   "cell_type": "code",
   "execution_count": 81,
   "id": "d5256697-4840-451f-8d89-22515b0564e4",
   "metadata": {},
   "outputs": [
    {
     "name": "stdin",
     "output_type": "stream",
     "text": [
      "Enter the index number 10\n"
     ]
    },
    {
     "name": "stdout",
     "output_type": "stream",
     "text": [
      "This is error: list index out of range\n"
     ]
    }
   ],
   "source": [
    "mylist = [23,45,56,67,55,46,77]\n",
    "\n",
    "index_num = int(input(\"Enter the index number\"))\n",
    "try:\n",
    "    x = mylist[index_num]       #mylist[1]\n",
    "except IndexError as ie:\n",
    "    print(\"This is error:\",ie)\n",
    "else:\n",
    "    print(x)"
   ]
  },
  {
   "cell_type": "code",
   "execution_count": null,
   "id": "43fc8ba4-6306-46e2-9f31-29c79c81f5a0",
   "metadata": {},
   "outputs": [],
   "source": []
  },
  {
   "cell_type": "code",
   "execution_count": 77,
   "id": "be5ab860-5939-4bb3-95c9-c1057c6b5a2c",
   "metadata": {},
   "outputs": [],
   "source": [
    "# 5. Create a dictionary and try to access a key that may not exist. Handle the KeyError.\n"
   ]
  },
  {
   "cell_type": "code",
   "execution_count": 37,
   "id": "f41ded97-c7eb-47c2-9fe0-7feadebd41e5",
   "metadata": {},
   "outputs": [
    {
     "name": "stdout",
     "output_type": "stream",
     "text": [
      "This is  keyerror: 'Seven'\n"
     ]
    }
   ],
   "source": [
    "my_dict = {\"One\":1, \"Two\":2,\"Three\":3, \"Four\":4, \"Five\":5, \"Six\":6}\n",
    "\n",
    "try: \n",
    "    print(my_dict[\"Seven\"])\n",
    "except KeyError as ke:\n",
    "    print(\"This is  keyerror:\",ke)\n"
   ]
  },
  {
   "cell_type": "code",
   "execution_count": null,
   "id": "a60cb238-a008-4a79-b369-7c261c7cf69c",
   "metadata": {},
   "outputs": [],
   "source": []
  },
  {
   "cell_type": "code",
   "execution_count": 44,
   "id": "c5c4b7ce-0e62-488f-8006-ca8dea59b41c",
   "metadata": {},
   "outputs": [],
   "source": [
    "# 6. Raise a custom exception NegativeAgeError if the user enters a negative number for age."
   ]
  },
  {
   "cell_type": "code",
   "execution_count": 52,
   "id": "a731637a-b6ba-461b-a7c0-8f5f37da8e34",
   "metadata": {},
   "outputs": [
    {
     "name": "stdin",
     "output_type": "stream",
     "text": [
      "Enter Your name: -8\n"
     ]
    },
    {
     "name": "stdout",
     "output_type": "stream",
     "text": [
      "Age number should be in positive. Its a NegativeAgeError\n"
     ]
    }
   ],
   "source": [
    "try:\n",
    "    age = int(input(\"Enter Your name:\"))\n",
    "    if age < 0:\n",
    "        raise Exception(\"Its a NegativeAgeError\")\n",
    "except Exception as ae:\n",
    "    print(\"Age number should be in positive.\", ae)\n",
    "else:\n",
    "    print(\"your age is\", age)\n",
    "    \n"
   ]
  },
  {
   "cell_type": "code",
   "execution_count": null,
   "id": "63ae8384-80e4-459f-a715-0eca7665ee9d",
   "metadata": {},
   "outputs": [],
   "source": []
  },
  {
   "cell_type": "code",
   "execution_count": 53,
   "id": "474a0de1-374b-4d07-97f4-5ce4f41ef708",
   "metadata": {},
   "outputs": [],
   "source": [
    "# 7. Create a finally block that always prints “End of program” even if an exception occurs or not."
   ]
  },
  {
   "cell_type": "code",
   "execution_count": 58,
   "id": "4d405c15-6ed3-4c3f-ba38-1626c282e0bd",
   "metadata": {},
   "outputs": [
    {
     "name": "stdin",
     "output_type": "stream",
     "text": [
      "Enter Your name: -20\n"
     ]
    },
    {
     "name": "stdout",
     "output_type": "stream",
     "text": [
      "Age number should be in positive. Its a NegativeAgeError\n",
      "End of program\n"
     ]
    }
   ],
   "source": [
    "try:\n",
    "    age = int(input(\"Enter Your name:\"))\n",
    "    if age < 0:\n",
    "        raise Exception(\"Its a NegativeAgeError\")\n",
    "except Exception as ae:\n",
    "    print(\"Age number should be in positive.\", ae)\n",
    "else:\n",
    "    print(\"your age is\", age)\n",
    "finally:\n",
    "    print(\"End of program\")"
   ]
  },
  {
   "cell_type": "code",
   "execution_count": null,
   "id": "f94a9217-098f-4a59-9cc2-750cdc461b50",
   "metadata": {},
   "outputs": [],
   "source": []
  },
  {
   "cell_type": "code",
   "execution_count": 59,
   "id": "11e6f63b-4874-4c47-8ade-85fe42f137ba",
   "metadata": {},
   "outputs": [],
   "source": [
    "# 8. Write a program to handle multiple exceptions (ValueError and ZeroDivisionError) in a single block."
   ]
  },
  {
   "cell_type": "code",
   "execution_count": 6,
   "id": "d44d709d-126c-4ce2-8cc3-503ba80da6be",
   "metadata": {},
   "outputs": [
    {
     "name": "stdin",
     "output_type": "stream",
     "text": [
      "Enter your first number:  7\n",
      "Enter your second number:  0\n"
     ]
    },
    {
     "name": "stdout",
     "output_type": "stream",
     "text": [
      "A number cannot be divided by zero.\n"
     ]
    }
   ],
   "source": [
    "x = int(input(\"Enter your first number: \"))\n",
    "y = int(input(\"Enter your second number: \"))\n",
    "try:\n",
    "    print(x / y) # This statement will execute if y is not zero.\n",
    "    print(\"20\" + 20)\n",
    "\n",
    "except(TypeError):\n",
    "    print(\"Type exception\")\n",
    "except(ZeroDivisionError):\n",
    "    print(\"A number cannot be divided by zero.\")\n"
   ]
  },
  {
   "cell_type": "code",
   "execution_count": null,
   "id": "f9100263-34b7-4d4a-b9dc-d11953de62a6",
   "metadata": {},
   "outputs": [],
   "source": []
  },
  {
   "cell_type": "code",
   "execution_count": 7,
   "id": "498eead3-5494-43a4-9884-761449398f99",
   "metadata": {},
   "outputs": [],
   "source": [
    "# 9. Raise a ValueError manually when a string is passed instead of a number."
   ]
  },
  {
   "cell_type": "code",
   "execution_count": 70,
   "id": "3520411c-1ccc-4379-b098-09d9af4c7005",
   "metadata": {},
   "outputs": [
    {
     "name": "stdin",
     "output_type": "stream",
     "text": [
      "Enter only number: poiu\n"
     ]
    },
    {
     "name": "stdout",
     "output_type": "stream",
     "text": [
      "You cannot pass the string ,Only number is allowed\n"
     ]
    }
   ],
   "source": [
    "try:\n",
    "    number = input(\"Enter only number:\")\n",
    "    int(number)\n",
    "    if number == number.isalpha():\n",
    "      raise Exception(\"It's is string error as a valueError.\")\n",
    "except Exception as ValueError:\n",
    "    print(\"You cannot pass the string ,Only number is allowed\")\n",
    "else:\n",
    "    print(\" You Enter the correct input,only number is allowed to pass.\")\n"
   ]
  },
  {
   "cell_type": "code",
   "execution_count": null,
   "id": "e7f31033-6d6b-46a2-aabf-bb6e5c640083",
   "metadata": {},
   "outputs": [],
   "source": []
  },
  {
   "cell_type": "code",
   "execution_count": null,
   "id": "ea16e830-8ac4-4237-82dc-2322409468d1",
   "metadata": {},
   "outputs": [],
   "source": [
    "# 10. Write a program that uses try, except, else, and finally blocks to divide two numbers."
   ]
  },
  {
   "cell_type": "code",
   "execution_count": 71,
   "id": "6b79f93b-0c48-4672-869b-c25cc7d4fef8",
   "metadata": {},
   "outputs": [
    {
     "name": "stdin",
     "output_type": "stream",
     "text": [
      "Enter the numerator number: 7\n",
      "Enter the denominator number: 0\n"
     ]
    },
    {
     "name": "stdout",
     "output_type": "stream",
     "text": [
      "Its an error, division by zero\n",
      "programm execute successfully\n"
     ]
    }
   ],
   "source": [
    "n = int(input(\"Enter the numerator number:\"))\n",
    "d = int(input(\"Enter the denominator number:\"))\n",
    "\n",
    "try:\n",
    "    result = n/d\n",
    "except Exception as e:\n",
    "   print(\"Its an error,\", e)\n",
    "else:\n",
    "    print(\"Result:\", result)\n",
    "finally:\n",
    "    print(\"programm execute successfully\")"
   ]
  },
  {
   "cell_type": "code",
   "execution_count": null,
   "id": "0e412885-ad64-4a04-8c7c-e202aca56822",
   "metadata": {},
   "outputs": [],
   "source": []
  },
  {
   "cell_type": "code",
   "execution_count": null,
   "id": "fd551b30-6a12-4cba-9c8c-2b8cd3bf260a",
   "metadata": {},
   "outputs": [],
   "source": []
  }
 ],
 "metadata": {
  "kernelspec": {
   "display_name": "Python 3 (ipykernel)",
   "language": "python",
   "name": "python3"
  },
  "language_info": {
   "codemirror_mode": {
    "name": "ipython",
    "version": 3
   },
   "file_extension": ".py",
   "mimetype": "text/x-python",
   "name": "python",
   "nbconvert_exporter": "python",
   "pygments_lexer": "ipython3",
   "version": "3.12.7"
  }
 },
 "nbformat": 4,
 "nbformat_minor": 5
}
