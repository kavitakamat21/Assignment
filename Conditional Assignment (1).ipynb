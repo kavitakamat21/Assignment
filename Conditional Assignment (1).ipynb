{
 "cells": [
  {
   "cell_type": "code",
   "execution_count": 1,
   "id": "570bb960-f9dc-49c7-9975-512a45e54798",
   "metadata": {},
   "outputs": [],
   "source": [
    "# Questions on Conditional Statements\n",
    "\n",
    "# Question 1: Grade Classifier \n",
    "#Write a program that takes a student's numerical grade as input and prints their corresponding \n",
    "#letter grade according to the following scale:\n",
    "# 90 or above: A 80-89: B 70-79: C 60-69: D Below 60: F\n",
    "\n",
    "#Question 2: Even or Odd \n",
    "# Write a program that takes an integer as input and determines whether it is even or odd.\n",
    "\n",
    "# Question 3:\n",
    "#Leap Year Checker Write a program that checks if a given year is a leap year.\n",
    "#A leap year is either divisible by 4 but not by 100, or divisible by 400.\n",
    "\n",
    "# Question 4: Positive, Negative, or Zero \n",
    "#Write a program that takes a number as input and prints whether it is positive, negative, or zero.\n",
    "\n",
    "# Question 5: Triangle Type \n",
    "#Write a program that takes the lengths of three sides of a triangle as input and \n",
    "#determines whether it's an equilateral, isosceles, or scalene triangle."
   ]
  },
  {
   "cell_type": "code",
   "execution_count": null,
   "id": "ad2e3268-f4f1-4690-9358-c03f45c7261e",
   "metadata": {},
   "outputs": [],
   "source": []
  },
  {
   "cell_type": "code",
   "execution_count": null,
   "id": "99af89cd-43c7-497a-9db8-c9f0fcf81cdc",
   "metadata": {},
   "outputs": [],
   "source": [
    "# Question 1: Grade Classifier \n",
    "# Write a program that takes a student's numerical grade as input and prints their corresponding \n",
    "#letter grade according to the following scale:\n",
    "# 90 or above: A 80-89: B 70-79: C 60-69: D Below 60: F"
   ]
  },
  {
   "cell_type": "code",
   "execution_count": 23,
   "id": "3f2bf924-120f-4f90-b782-f44d233f3850",
   "metadata": {},
   "outputs": [
    {
     "name": "stdin",
     "output_type": "stream",
     "text": [
      "Enter your marks: 56\n"
     ]
    }
   ],
   "source": [
    "marks = int(input(\"Enter your marks:\"))\n"
   ]
  },
  {
   "cell_type": "code",
   "execution_count": 24,
   "id": "ecf3464b-775f-4a2f-82fe-23f36e0a984a",
   "metadata": {},
   "outputs": [
    {
     "name": "stdout",
     "output_type": "stream",
     "text": [
      "you got 56 marks in your exam and  with the grade of F.\n"
     ]
    }
   ],
   "source": [
    "if marks >=90:\n",
    "    Grade =\"A\"\n",
    "elif marks>=80:\n",
    "    Grade =\"B\"\n",
    "elif marks >=70:\n",
    "    Grade =\"C\"\n",
    "elif marks >=60:\n",
    "    Grade =\"D\"\n",
    "else:\n",
    "  Grade =\"F\"\n",
    "    \n",
    "print(f\"you got {marks} marks in your exam and  with the grade of {Grade}.\")"
   ]
  },
  {
   "cell_type": "code",
   "execution_count": null,
   "id": "4317d6eb-f1d2-4f5b-b8fb-22af0ff10431",
   "metadata": {},
   "outputs": [],
   "source": []
  },
  {
   "cell_type": "code",
   "execution_count": 29,
   "id": "92b12d16-9aa6-46c4-bbf3-7e8a2e0dc962",
   "metadata": {},
   "outputs": [],
   "source": [
    "#Question 2: Even or Odd \n",
    "# Write a program that takes an integer as input and determines whether it is even or odd\n"
   ]
  },
  {
   "cell_type": "code",
   "execution_count": 34,
   "id": "b9424c65-0c17-4921-b144-d24fe0310e1a",
   "metadata": {},
   "outputs": [
    {
     "name": "stdin",
     "output_type": "stream",
     "text": [
      "Enter any  number: 16\n"
     ]
    }
   ],
   "source": [
    "number = int(input(\"Enter any  number:\"))\n"
   ]
  },
  {
   "cell_type": "code",
   "execution_count": 35,
   "id": "c07eb3ea-03f6-4046-8053-6a32526186a8",
   "metadata": {},
   "outputs": [
    {
     "name": "stdout",
     "output_type": "stream",
     "text": [
      "Its even number\n"
     ]
    }
   ],
   "source": [
    "if number%2==0:\n",
    "    print(\"Its even number\")\n",
    "else:\n",
    "    print(\"Its odd number\")\n"
   ]
  },
  {
   "cell_type": "code",
   "execution_count": null,
   "id": "b361e512-82bd-4a53-9577-fd13e9541b43",
   "metadata": {},
   "outputs": [],
   "source": []
  },
  {
   "cell_type": "code",
   "execution_count": null,
   "id": "e1f362f2-d86a-492a-8606-5b7016094efc",
   "metadata": {},
   "outputs": [],
   "source": [
    "# Question 3:\n",
    "#Leap Year Checker Write a program that checks if a given year is a leap year.\n",
    "#A leap year is either divisible by 4 but not by 100, or divisible by 400.\n"
   ]
  },
  {
   "cell_type": "code",
   "execution_count": 50,
   "id": "4007bc99-40eb-47c4-9086-f284f576e070",
   "metadata": {},
   "outputs": [
    {
     "name": "stdin",
     "output_type": "stream",
     "text": [
      "Enter any year: 2500\n"
     ]
    }
   ],
   "source": [
    "year = int(input(\"Enter any year:\"))\n"
   ]
  },
  {
   "cell_type": "code",
   "execution_count": 51,
   "id": "39273a47-a3b9-4130-a096-71c6d6bb2c2a",
   "metadata": {},
   "outputs": [
    {
     "name": "stdout",
     "output_type": "stream",
     "text": [
      "It's not a leap year\n"
     ]
    }
   ],
   "source": [
    "if year%4==0 and year%400 and year%100!=0:\n",
    "    print(\"It's leap year\")\n",
    "else:\n",
    "    print(\"It's not a leap year\")"
   ]
  },
  {
   "cell_type": "code",
   "execution_count": null,
   "id": "77e8b1c5-b3fd-433b-a8be-f509d9d05bd3",
   "metadata": {},
   "outputs": [],
   "source": []
  },
  {
   "cell_type": "code",
   "execution_count": null,
   "id": "5e1a3564-daf7-4bc5-912d-b12a87c4e262",
   "metadata": {},
   "outputs": [],
   "source": [
    "# Question 4: Positive, Negative, or Zero \n",
    "#Write a program that takes a number as input and prints whether it is positive, negative, or zero.\n"
   ]
  },
  {
   "cell_type": "code",
   "execution_count": 58,
   "id": "439f4010-2d1a-48b7-9229-48b23962e279",
   "metadata": {},
   "outputs": [
    {
     "name": "stdin",
     "output_type": "stream",
     "text": [
      "Enter any number: 12\n"
     ]
    }
   ],
   "source": [
    "number = int(input(\"Enter any number:\"))\n"
   ]
  },
  {
   "cell_type": "code",
   "execution_count": 59,
   "id": "9cf3f183-62d4-48ea-a82f-c325ba3909bf",
   "metadata": {},
   "outputs": [
    {
     "name": "stdout",
     "output_type": "stream",
     "text": [
      "It's positive\n"
     ]
    }
   ],
   "source": [
    "if number>0:\n",
    "    print(\"It's positive\")\n",
    "elif number==0:\n",
    "    print(\"It's zero\")\n",
    "else:\n",
    "    print(\"It's Negative\")"
   ]
  },
  {
   "cell_type": "code",
   "execution_count": null,
   "id": "3fc0ab97-7406-4e4e-8e5e-b527bc17d4ec",
   "metadata": {},
   "outputs": [],
   "source": []
  },
  {
   "cell_type": "code",
   "execution_count": null,
   "id": "75f612e4-387a-48d8-b184-532ce8e2052e",
   "metadata": {},
   "outputs": [],
   "source": [
    "# Question 5: Triangle Type \n",
    "#Write a program that takes the lengths of three sides of a triangle as input and \n",
    "#determines whether it's an equilateral, isosceles, or scalene triangle.\n"
   ]
  },
  {
   "cell_type": "code",
   "execution_count": 67,
   "id": "2f832829-271a-4628-be4b-7493b8bb6a7a",
   "metadata": {},
   "outputs": [
    {
     "name": "stdin",
     "output_type": "stream",
     "text": [
      "Enter triangle first side: 15\n",
      "Enter triangle second side: 14\n",
      "Enter triangle third side: 15\n"
     ]
    }
   ],
   "source": [
    "side1 = int(input(\"Enter triangle first side:\"))\n",
    "side2 = int(input(\"Enter triangle second side:\"))\n",
    "side3 = int(input(\"Enter triangle third side:\"))\n"
   ]
  },
  {
   "cell_type": "code",
   "execution_count": 68,
   "id": "838b95da-3415-4d5f-bdfc-861c6ce8acb5",
   "metadata": {},
   "outputs": [
    {
     "name": "stdout",
     "output_type": "stream",
     "text": [
      "It's scalene triangle\n"
     ]
    }
   ],
   "source": [
    "if side1==side2 and side2==side3 and side3==side1:\n",
    "    print(\"It's equilateral triangle\")\n",
    "    \n",
    "elif side1==side2 or side2==side3:\n",
    "    print(\"It's isosceles triangle\")\n",
    "    \n",
    "else:\n",
    "     print(\"It's scalene triangle\")\n",
    "\n"
   ]
  },
  {
   "cell_type": "code",
   "execution_count": null,
   "id": "94d9f780-3b61-4aa2-b948-637c68da8e4b",
   "metadata": {},
   "outputs": [],
   "source": []
  }
 ],
 "metadata": {
  "kernelspec": {
   "display_name": "Python 3 (ipykernel)",
   "language": "python",
   "name": "python3"
  },
  "language_info": {
   "codemirror_mode": {
    "name": "ipython",
    "version": 3
   },
   "file_extension": ".py",
   "mimetype": "text/x-python",
   "name": "python",
   "nbconvert_exporter": "python",
   "pygments_lexer": "ipython3",
   "version": "3.12.7"
  }
 },
 "nbformat": 4,
 "nbformat_minor": 5
}
