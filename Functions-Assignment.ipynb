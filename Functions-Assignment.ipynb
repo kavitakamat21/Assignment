{
 "cells": [
  {
   "cell_type": "code",
   "execution_count": null,
   "id": "2596d588-2bd8-43fa-99ae-a6c68331b3f0",
   "metadata": {},
   "outputs": [],
   "source": [
    "# Part A: Basic Function Definitions\n",
    "\n",
    "# Q1. Write a function greet_user() that prints \"Hello, welcome to Python programming!\".\n",
    "# Q2. Write a function add_numbers(a, b) that returns the sum of two numbers.\n",
    "# Q3. Write a function is_even(n) that returns True if the number is even, else False.\n",
    "# Q4. Write a function factorial(n) that returns the factorial of a number using a loop.\n"
   ]
  },
  {
   "cell_type": "code",
   "execution_count": 1,
   "id": "0915cc32-253a-4a6f-b1b2-7e1bf536e87e",
   "metadata": {},
   "outputs": [],
   "source": [
    "# Q1. Write a function greet_user() that prints \"Hello, welcome to Python programming!\".\n"
   ]
  },
  {
   "cell_type": "code",
   "execution_count": 156,
   "id": "1239c41b-7634-475b-94f7-a65eb4a2eba8",
   "metadata": {},
   "outputs": [
    {
     "name": "stdout",
     "output_type": "stream",
     "text": [
      "Hello, welcome to Python programming! ritika\n"
     ]
    }
   ],
   "source": [
    "def greet_user(name):\n",
    "    print(\"Hello, welcome to Python programming!\",name)\n",
    "greet_user(\"ritika\")\n",
    "\n"
   ]
  },
  {
   "cell_type": "raw",
   "id": "8ae1355c-a84b-4db0-a17f-f362f6292361",
   "metadata": {},
   "source": []
  },
  {
   "cell_type": "code",
   "execution_count": null,
   "id": "8a9f07a4-811f-4f2f-be14-f25a45b702cd",
   "metadata": {},
   "outputs": [],
   "source": [
    "# Q2. Write a function add_numbers(a, b) that returns the sum of two numbers.\n"
   ]
  },
  {
   "cell_type": "code",
   "execution_count": 39,
   "id": "feb5060e-95f8-47ca-aa06-fa46309326d7",
   "metadata": {},
   "outputs": [
    {
     "name": "stdout",
     "output_type": "stream",
     "text": [
      "11\n"
     ]
    }
   ],
   "source": [
    "def add_numbers(a, b):\n",
    "    add=a+b\n",
    "    return add\n",
    "total=add_numbers(5, 6)\n",
    "print(total)"
   ]
  },
  {
   "cell_type": "code",
   "execution_count": 45,
   "id": "0c6dc14f-2ad7-44e1-89ff-4b541bc658a9",
   "metadata": {},
   "outputs": [
    {
     "data": {
      "text/plain": [
       "6"
      ]
     },
     "execution_count": 45,
     "metadata": {},
     "output_type": "execute_result"
    }
   ],
   "source": [
    "add_numbers(5,1)\n"
   ]
  },
  {
   "cell_type": "code",
   "execution_count": 44,
   "id": "c0070402-dd0d-449f-91c5-e70f92eb10fc",
   "metadata": {},
   "outputs": [
    {
     "data": {
      "text/plain": [
       "7"
      ]
     },
     "execution_count": 44,
     "metadata": {},
     "output_type": "execute_result"
    }
   ],
   "source": [
    "add_numbers(6,1)"
   ]
  },
  {
   "cell_type": "code",
   "execution_count": null,
   "id": "16aca345-3ba4-423e-a6e0-057ad3bdcf09",
   "metadata": {},
   "outputs": [],
   "source": []
  },
  {
   "cell_type": "code",
   "execution_count": 46,
   "id": "b77b9e3c-3a67-4939-8b91-da9e9a0e592f",
   "metadata": {},
   "outputs": [],
   "source": [
    "# Q3. Write a function is_even(n) that returns True if the number is even, else False.\n"
   ]
  },
  {
   "cell_type": "code",
   "execution_count": 181,
   "id": "b9f23a35-ca01-4396-a5cf-2c7193012da4",
   "metadata": {},
   "outputs": [
    {
     "name": "stdin",
     "output_type": "stream",
     "text": [
      "Enter the number: 7\n"
     ]
    }
   ],
   "source": [
    "n=int(input(\"Enter the number:\"))\n"
   ]
  },
  {
   "cell_type": "code",
   "execution_count": 183,
   "id": "1061823e-b9f7-4c58-9c5e-b3e93448fba6",
   "metadata": {},
   "outputs": [
    {
     "data": {
      "text/plain": [
       "'False'"
      ]
     },
     "execution_count": 183,
     "metadata": {},
     "output_type": "execute_result"
    }
   ],
   "source": [
    "def is_even(n):\n",
    "    if n%2==0:\n",
    "     return \"True\"\n",
    "    elif n%2!=0:\n",
    "      return \"False\"\n",
    "is_even(n)\n"
   ]
  },
  {
   "cell_type": "code",
   "execution_count": null,
   "id": "dedcb85f-88c4-44b1-ac16-ba37a2e9762e",
   "metadata": {},
   "outputs": [],
   "source": []
  },
  {
   "cell_type": "code",
   "execution_count": null,
   "id": "39427161-4628-42bc-b54a-d3bea6482746",
   "metadata": {},
   "outputs": [],
   "source": [
    "# Q4. Write a function factorial(n) that returns the factorial of a number using a loop.\n"
   ]
  },
  {
   "cell_type": "code",
   "execution_count": 47,
   "id": "e130ed75-7dad-4838-83c3-87d367e96f50",
   "metadata": {},
   "outputs": [
    {
     "name": "stdin",
     "output_type": "stream",
     "text": [
      "Enter the number: 5\n"
     ]
    }
   ],
   "source": [
    "n=int(input(\"Enter the number:\"))\n"
   ]
  },
  {
   "cell_type": "code",
   "execution_count": 48,
   "id": "ee08f114-8460-44f9-b755-4a384ba5c4f6",
   "metadata": {},
   "outputs": [
    {
     "data": {
      "text/plain": [
       "120"
      ]
     },
     "execution_count": 48,
     "metadata": {},
     "output_type": "execute_result"
    }
   ],
   "source": [
    "def factorial(n):                    # Using for loop\n",
    "    fact=1\n",
    "    for i in range(1,n+1):\n",
    "        fact*=i\n",
    "    return fact\n",
    "        \n",
    "factorial(n)"
   ]
  },
  {
   "cell_type": "code",
   "execution_count": null,
   "id": "44e91ee8-21a1-4203-9c37-a09731c3b6f0",
   "metadata": {},
   "outputs": [],
   "source": []
  },
  {
   "cell_type": "code",
   "execution_count": null,
   "id": "df5fef83-4be0-493c-ba3b-3b68e509307e",
   "metadata": {},
   "outputs": [],
   "source": [
    "\n",
    "# 🔹 Part B: Intermediate Level\n"
   ]
  },
  {
   "cell_type": "code",
   "execution_count": null,
   "id": "1f059555-758d-43a5-ba4a-bbe23f89e097",
   "metadata": {},
   "outputs": [],
   "source": [
    "# 🔹 Part B: Intermediate Level\n",
    "# Q5. Write a function find_max(lst) that takes a list and returns the maximum number.\n",
    "# Q6. Write a function count_vowels(s) that counts the number of vowels in a string.\n",
    "# Q7. Write a function reverse_string(s) that returns the reverse of a string.\n",
    "# Q8. Write a function fibonacci(n) that returns the first n numbers in the Fibonacci sequence.\n"
   ]
  },
  {
   "cell_type": "code",
   "execution_count": null,
   "id": "d3f0b1d2-3371-436c-afe7-69aa266cc987",
   "metadata": {},
   "outputs": [],
   "source": []
  },
  {
   "cell_type": "code",
   "execution_count": 49,
   "id": "9aeb36fc-761c-4aa5-9580-c4cf5b6d9dab",
   "metadata": {},
   "outputs": [],
   "source": [
    "# Q5. Write a function find_max(lst) that takes a list and returns the maximum number.\n"
   ]
  },
  {
   "cell_type": "code",
   "execution_count": 50,
   "id": "bfd26d56-6c7c-4291-8a97-496b0b5eca5b",
   "metadata": {},
   "outputs": [],
   "source": [
    "my_list=[55,22,8,6,15,11,87,85,78,44,14,36,78]"
   ]
  },
  {
   "cell_type": "code",
   "execution_count": 51,
   "id": "71dfed4a-b1c4-4f95-bbce-61e64d45e540",
   "metadata": {},
   "outputs": [
    {
     "data": {
      "text/plain": [
       "[55, 22, 8, 6, 15, 11, 87, 85, 78, 44, 14, 36, 78]"
      ]
     },
     "execution_count": 51,
     "metadata": {},
     "output_type": "execute_result"
    }
   ],
   "source": [
    "my_list"
   ]
  },
  {
   "cell_type": "code",
   "execution_count": 76,
   "id": "2dd31440-76f8-4a98-86fa-a076e401feed",
   "metadata": {},
   "outputs": [],
   "source": [
    "def max_number(h):\n",
    "    \n",
    " largest=h[0]\n",
    " for i in h:\n",
    "      if i> largest:\n",
    "          largest=i     \n",
    " return largest\n"
   ]
  },
  {
   "cell_type": "code",
   "execution_count": 75,
   "id": "0ade44b6-25da-4074-a9c2-d7222e8b4702",
   "metadata": {},
   "outputs": [
    {
     "data": {
      "text/plain": [
       "87"
      ]
     },
     "execution_count": 75,
     "metadata": {},
     "output_type": "execute_result"
    }
   ],
   "source": [
    "max_number(my_list)"
   ]
  },
  {
   "cell_type": "code",
   "execution_count": null,
   "id": "5d38b6c5-0f0a-4008-9726-9507c937f685",
   "metadata": {},
   "outputs": [],
   "source": []
  },
  {
   "cell_type": "code",
   "execution_count": null,
   "id": "e7ff9fa2-59a7-4374-8797-f047bd07a593",
   "metadata": {},
   "outputs": [],
   "source": [
    "# Q6. Write a function count_vowels(s) that counts the number of vowels in a string.\n"
   ]
  },
  {
   "cell_type": "code",
   "execution_count": 40,
   "id": "b6fb6882-c52e-4863-b475-63d6006bf4f7",
   "metadata": {},
   "outputs": [
    {
     "name": "stdin",
     "output_type": "stream",
     "text": [
      "Enter any string: tyrueihnmbgysioidalnlz\n"
     ]
    }
   ],
   "source": [
    "my_string = input(\"Enter any string:\")"
   ]
  },
  {
   "cell_type": "code",
   "execution_count": 41,
   "id": "d8ef33fe-b5bc-4f70-ab88-32f5b4ef17ea",
   "metadata": {},
   "outputs": [],
   "source": [
    "#my_string=\"coaching\"\n",
    "def count_vowels(s):\n",
    "    count= 0\n",
    "\n",
    "    for i in my_string:\n",
    "      if i in \"aeiouAEIOU\":\n",
    "        count+=1\n",
    "    return count\n"
   ]
  },
  {
   "cell_type": "code",
   "execution_count": 42,
   "id": "6a76c6c7-0bee-40ab-acb1-629933996f52",
   "metadata": {},
   "outputs": [
    {
     "data": {
      "text/plain": [
       "7"
      ]
     },
     "execution_count": 42,
     "metadata": {},
     "output_type": "execute_result"
    }
   ],
   "source": [
    "count_vowels(count)"
   ]
  },
  {
   "cell_type": "code",
   "execution_count": null,
   "id": "9b8c4981-7611-4363-a1ea-8d12fd43c8a4",
   "metadata": {},
   "outputs": [],
   "source": []
  },
  {
   "cell_type": "code",
   "execution_count": 37,
   "id": "6783e22c-e430-4831-b7db-51a125588f1e",
   "metadata": {},
   "outputs": [],
   "source": [
    "# Q7. Write a function reverse_string(s) that returns the reverse of a string.\n"
   ]
  },
  {
   "cell_type": "code",
   "execution_count": 83,
   "id": "a58acc69-9a74-4206-abc3-83f8377efd03",
   "metadata": {},
   "outputs": [
    {
     "name": "stdin",
     "output_type": "stream",
     "text": [
      "Enter any word: pyhtonprogramming\n"
     ]
    }
   ],
   "source": [
    "string1=input(\"Enter any word:\")"
   ]
  },
  {
   "cell_type": "code",
   "execution_count": 84,
   "id": "41064ae2-daeb-4859-9e9d-ebca13472468",
   "metadata": {},
   "outputs": [
    {
     "data": {
      "text/plain": [
       "'gnimmargorpnothyp'"
      ]
     },
     "execution_count": 84,
     "metadata": {},
     "output_type": "execute_result"
    }
   ],
   "source": [
    "def reverse_string(s):\n",
    "    return s[::-1]\n",
    "    \n",
    "reverse_string(string1)"
   ]
  },
  {
   "cell_type": "code",
   "execution_count": null,
   "id": "60e2ca4c-1c70-4a69-96ec-bcc013d2f171",
   "metadata": {},
   "outputs": [],
   "source": []
  },
  {
   "cell_type": "code",
   "execution_count": null,
   "id": "6d640fb6-c50b-4762-935a-d08e49686c60",
   "metadata": {},
   "outputs": [],
   "source": [
    "# Q8. Write a function fibonacci(n) that returns the first n numbers in the Fibonacci sequence.\n"
   ]
  },
  {
   "cell_type": "code",
   "execution_count": 7,
   "id": "0e9aab35-09b5-4a2e-9ad0-1f44239868ef",
   "metadata": {},
   "outputs": [
    {
     "name": "stdin",
     "output_type": "stream",
     "text": [
      "Enter the number: 10\n"
     ]
    }
   ],
   "source": [
    "\n",
    "n=int(input(\"Enter the number:\"))"
   ]
  },
  {
   "cell_type": "code",
   "execution_count": 8,
   "id": "bc22d3f9-4d99-4088-8157-7a41e0f45192",
   "metadata": {},
   "outputs": [
    {
     "name": "stdout",
     "output_type": "stream",
     "text": [
      "0 1 1 2 3 5 8 13 21 34 55 89 "
     ]
    }
   ],
   "source": [
    "def fibo(n):\n",
    "    x=0\n",
    "    y=1\n",
    "    print(x,y,end=\" \")\n",
    "    for i in range(n):\n",
    "        new_number = x+y\n",
    "        x=y\n",
    "        y=new_number\n",
    "        print(new_number,end=\" \")\n",
    "fibo(n)"
   ]
  },
  {
   "cell_type": "code",
   "execution_count": null,
   "id": "22cc26b5-3c5c-41a5-ac8a-64ea4e5c7df2",
   "metadata": {},
   "outputs": [],
   "source": []
  },
  {
   "cell_type": "code",
   "execution_count": null,
   "id": "638d09df-77ea-4ed5-92d5-e560be3a88ad",
   "metadata": {},
   "outputs": [],
   "source": [
    "\n",
    "# Advance level:-\n"
   ]
  },
  {
   "cell_type": "code",
   "execution_count": null,
   "id": "05c0f414-0186-4fc9-8b1d-a1b14592b9d2",
   "metadata": {},
   "outputs": [],
   "source": [
    "# Q9. Write a recursive function sum_of_digits(n) that returns the sum of digits of a number.\n"
   ]
  },
  {
   "cell_type": "code",
   "execution_count": 45,
   "id": "80ba9e1e-1b0b-40f2-997f-f92a74e00379",
   "metadata": {},
   "outputs": [
    {
     "name": "stdout",
     "output_type": "stream",
     "text": [
      "55\n"
     ]
    }
   ],
   "source": [
    "def sum_of_digits(n):\n",
    "   if (n == 0):   \n",
    "        return 0\n",
    "   return sum_of_digits(n-1)+n\n",
    "       \n",
    "sum = sum_of_digits(10)\n",
    "print(sum)\n"
   ]
  },
  {
   "cell_type": "code",
   "execution_count": null,
   "id": "4994737b-5b46-4f36-aeed-f0d386d3dabd",
   "metadata": {},
   "outputs": [],
   "source": []
  },
  {
   "cell_type": "code",
   "execution_count": 46,
   "id": "e2ff5550-5974-4bd6-8a34-ff65c19d53fc",
   "metadata": {},
   "outputs": [
    {
     "data": {
      "text/plain": [
       "55"
      ]
     },
     "execution_count": 46,
     "metadata": {},
     "output_type": "execute_result"
    }
   ],
   "source": [
    "def sum_of_digits(n):\n",
    "   if (n == 0):   \n",
    "        return 0\n",
    "   return sum_of_digits(n-1)+n\n",
    "       \n",
    "sum_of_digits(10)\n"
   ]
  },
  {
   "cell_type": "code",
   "execution_count": null,
   "id": "d7d76d06-dfaf-45a5-8d0b-b759d46c7e4a",
   "metadata": {},
   "outputs": [],
   "source": []
  },
  {
   "cell_type": "code",
   "execution_count": 47,
   "id": "a2df15c9-1c35-46b2-bf45-e1d9f1497b22",
   "metadata": {},
   "outputs": [],
   "source": [
    "# Q10. Write a function is_palindrome(s) that checks whether a string is a palindrome or not.\n"
   ]
  },
  {
   "cell_type": "code",
   "execution_count": 64,
   "id": "a6dfd134-07ce-4d39-a675-3a8620f10408",
   "metadata": {},
   "outputs": [
    {
     "name": "stdin",
     "output_type": "stream",
     "text": [
      "Enter any string: comic\n"
     ]
    }
   ],
   "source": [
    "char=input(\"Enter any string:\")"
   ]
  },
  {
   "cell_type": "code",
   "execution_count": 65,
   "id": "ac965215-c03b-440c-9e6b-d7a9e8f219ca",
   "metadata": {},
   "outputs": [
    {
     "data": {
      "text/plain": [
       "'not palindromic'"
      ]
     },
     "execution_count": 65,
     "metadata": {},
     "output_type": "execute_result"
    }
   ],
   "source": [
    "reversed=char[::-1]\n",
    "\n",
    "def is_palindrome(s):\n",
    "    if char == reversed:\n",
    "        return \"palindromic\"\n",
    "    else:\n",
    "        return  \"not palindromic\"\n",
    "is_palindrome(char)   "
   ]
  },
  {
   "cell_type": "code",
   "execution_count": null,
   "id": "e5dfc74c-684c-41f9-829e-21c48cb246fc",
   "metadata": {},
   "outputs": [],
   "source": []
  },
  {
   "cell_type": "code",
   "execution_count": null,
   "id": "21ee7166-26c7-4ecc-8230-424d51297cb6",
   "metadata": {},
   "outputs": [],
   "source": [
    "# Q11. Write a function calculate_grade(score) that returns a grade based on score:\n",
    "\n",
    "# 90-100: A\n",
    "# 80-89: B\n",
    "# 70-79: C\n",
    "# 60-69: D\n",
    "# Below 60: F"
   ]
  },
  {
   "cell_type": "code",
   "execution_count": 51,
   "id": "54346c25-829d-4bc3-93e0-912b594260bd",
   "metadata": {},
   "outputs": [
    {
     "name": "stdin",
     "output_type": "stream",
     "text": [
      "Enter your marks: 85\n"
     ]
    }
   ],
   "source": [
    "marks= int(input(\"Enter your marks:\"))\n"
   ]
  },
  {
   "cell_type": "code",
   "execution_count": 52,
   "id": "2e153789-5920-4391-9812-305fe0d986a0",
   "metadata": {},
   "outputs": [
    {
     "name": "stdout",
     "output_type": "stream",
     "text": [
      " your score 85 marks in exam with the  grade of B.\n"
     ]
    }
   ],
   "source": [
    "def calculate_grade(score):\n",
    "   if marks >=90:\n",
    "    Grade =\"A\"\n",
    "   elif marks>=80:\n",
    "    Grade =\"B\"\n",
    "   elif marks >=70:\n",
    "    Grade =\"C\"\n",
    "   elif marks >=60:\n",
    "    Grade =\"D\"\n",
    "   else:\n",
    "    Grade =\"F\"\n",
    "   return Grade\n",
    "    \n",
    "score=calculate_grade(marks)   \n",
    "print(f\" your score {marks} marks in exam with the  grade of {score}.\")"
   ]
  },
  {
   "cell_type": "code",
   "execution_count": null,
   "id": "1c733923-4dd1-4d94-9458-97cb8d8395ca",
   "metadata": {},
   "outputs": [],
   "source": []
  },
  {
   "cell_type": "code",
   "execution_count": 53,
   "id": "0776f71f-49cd-47dc-90e1-aea8648d3a35",
   "metadata": {},
   "outputs": [],
   "source": [
    "# Q12. Write a function analyze_list(lst) that returns:\n",
    "\n",
    "# Total number of elements\n",
    "# Maximum and minimum value\n",
    "# Average\n"
   ]
  },
  {
   "cell_type": "code",
   "execution_count": 1,
   "id": "f4a242a5-8989-4153-a61b-98fe29ed19bf",
   "metadata": {},
   "outputs": [
    {
     "data": {
      "text/plain": [
       "11"
      ]
     },
     "execution_count": 1,
     "metadata": {},
     "output_type": "execute_result"
    }
   ],
   "source": [
    "# Total number of elements\n",
    "def analyze_list(lst):\n",
    "    \n",
    " length = len(my_list)     # Total number of elements\n",
    " return length\n",
    "my_list = [45,89,78,True,74,\"welcome\",89,36,64,78,\"Hello\",]\n",
    "\n",
    "analyze_list(my_list)"
   ]
  },
  {
   "cell_type": "code",
   "execution_count": null,
   "id": "db91085a-e07a-44c7-85f3-95b796d126cf",
   "metadata": {},
   "outputs": [],
   "source": []
  },
  {
   "cell_type": "code",
   "execution_count": 85,
   "id": "8fa98213-9e38-42e7-9c53-800568f30c68",
   "metadata": {},
   "outputs": [
    {
     "name": "stdout",
     "output_type": "stream",
     "text": [
      "254\n",
      "36\n"
     ]
    }
   ],
   "source": [
    "# Maximum and minimum value\n",
    "def analyze_list(lst):\n",
    "    \n",
    " max_num = max(my_list)         # Maximum value\n",
    " min_num = min(my_list)         #Miniumum value\n",
    " return max_num,min_num\n",
    "my_list = [45,89,78,74,89,36,64,78,100,94,78,96,105,254]\n",
    "\n",
    "m1,m2 = analyze_list(my_list)\n",
    "print(m1)\n",
    "print(m2)"
   ]
  },
  {
   "cell_type": "code",
   "execution_count": 3,
   "id": "354db4b6-5ea4-4f55-b18e-8f4b891f28d9",
   "metadata": {},
   "outputs": [
    {
     "data": {
      "text/plain": [
       "49.6"
      ]
     },
     "execution_count": 3,
     "metadata": {},
     "output_type": "execute_result"
    }
   ],
   "source": [
    "# Average\n",
    "def analyze_list(lst):        \n",
    "  \n",
    " my_list = [45,89,78,74,89,36,64,8,9,4]\n",
    " length = len(my_list)    \n",
    " total=sum(my_list)\n",
    " average= total/length \n",
    " return average\n",
    "\n",
    "analyze_list(my_list)"
   ]
  },
  {
   "cell_type": "code",
   "execution_count": null,
   "id": "d920c731-1342-4ccb-94ac-c65e9f5e876e",
   "metadata": {},
   "outputs": [],
   "source": []
  },
  {
   "cell_type": "code",
   "execution_count": 104,
   "id": "10abab20-626e-4d2b-b99c-64174aaac7ac",
   "metadata": {},
   "outputs": [],
   "source": [
    "# Q13. Use a lambda function with map() to square all elements of a list.\n"
   ]
  },
  {
   "cell_type": "code",
   "execution_count": 7,
   "id": "ab44c603-bcbe-4598-97cf-e5501992a57b",
   "metadata": {},
   "outputs": [
    {
     "name": "stdout",
     "output_type": "stream",
     "text": [
      "[16, 64, 4, 64, 25, 16]\n"
     ]
    }
   ],
   "source": [
    "\n",
    "my_list = [4,8,2,8,5,4]\n",
    "square = map(lambda x: x**2,my_list)\n",
    "print(list(square))"
   ]
  },
  {
   "cell_type": "code",
   "execution_count": null,
   "id": "a5373e38-ba12-4b4f-97b6-bdc806bbf5d3",
   "metadata": {},
   "outputs": [],
   "source": []
  },
  {
   "cell_type": "code",
   "execution_count": null,
   "id": "64e20853-3583-41af-b267-c9f5b06029ae",
   "metadata": {},
   "outputs": [],
   "source": [
    "# Q14. Use a lambda function with filter() to filter even numbers from a list."
   ]
  },
  {
   "cell_type": "code",
   "execution_count": 8,
   "id": "e5827670-feca-4617-8051-55745cfa270f",
   "metadata": {},
   "outputs": [
    {
     "name": "stdout",
     "output_type": "stream",
     "text": [
      "[4, 8, 2, 8, 4, 8, 6, 2]\n"
     ]
    }
   ],
   "source": [
    "my_list = [4,8,2,8,5,4,8,9,5,6,2,3]\n",
    "even_num = filter(lambda x: x%2==0, my_list)\n",
    "print(list(even_num))"
   ]
  },
  {
   "cell_type": "code",
   "execution_count": null,
   "id": "d66272f6-d675-4284-a5e6-486dc9ee443e",
   "metadata": {},
   "outputs": [],
   "source": []
  }
 ],
 "metadata": {
  "kernelspec": {
   "display_name": "Python 3 (ipykernel)",
   "language": "python",
   "name": "python3"
  },
  "language_info": {
   "codemirror_mode": {
    "name": "ipython",
    "version": 3
   },
   "file_extension": ".py",
   "mimetype": "text/x-python",
   "name": "python",
   "nbconvert_exporter": "python",
   "pygments_lexer": "ipython3",
   "version": "3.12.7"
  }
 },
 "nbformat": 4,
 "nbformat_minor": 5
}
