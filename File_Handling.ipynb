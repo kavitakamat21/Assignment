{
 "cells": [
  {
   "cell_type": "code",
   "execution_count": null,
   "id": "ed6c0720-7887-4590-acab-1bf75f4b23ac",
   "metadata": {},
   "outputs": [],
   "source": [
    "# Assignment Questions – File Handling in Python\n",
    "\n",
    "# 1. Write a program to create a text file and write \"Hello, World!\" into it.\n",
    "# 2. Read the content of a file and print it line by line.\n",
    "# 3. Append a line \"This is appended text.\" to an existing file without overwriting existing content.\n",
    "# 4. Count the number of words in a given text file.\n",
    "# 5. Count the number of lines in a file.\n",
    "# 6. Create a file, write multiple lines, then read and print only lines that contain the word \"Python\".\n",
    "# 7. Check whether a file exists or not before opening it.\n",
    "# 8. Write a program to copy the content of one file to another.\n",
    "# 9. Store 5 student names in a file and then read the file and print each name with serial number.\n",
    "# 10. Create a file, write some numbers in it, then read the file and print the sum of all numbers."
   ]
  },
  {
   "cell_type": "code",
   "execution_count": null,
   "id": "039fd2fe-ab04-454e-8692-56f239017aae",
   "metadata": {},
   "outputs": [],
   "source": [
    "# 1. Write a program to create a text file and write \"Hello, World!\" into it."
   ]
  },
  {
   "cell_type": "code",
   "execution_count": 19,
   "id": "6b04d688-be76-4021-b789-1dbc9d5b7259",
   "metadata": {},
   "outputs": [
    {
     "name": "stdout",
     "output_type": "stream",
     "text": [
      "12\n"
     ]
    }
   ],
   "source": [
    "with open(\"new_file.txt\",mode='xt') as f:\n",
    "   a = f.write(\"Hello World!\")\n",
    "   print(a)\n",
    "    "
   ]
  },
  {
   "cell_type": "code",
   "execution_count": null,
   "id": "022b4131-afbf-463f-9654-e7bbcffbc14a",
   "metadata": {},
   "outputs": [],
   "source": []
  },
  {
   "cell_type": "code",
   "execution_count": 20,
   "id": "68485d33-3ac3-47cb-8dee-5479d600fef2",
   "metadata": {},
   "outputs": [],
   "source": [
    "# 2. Read the content of a file and print it line by line."
   ]
  },
  {
   "cell_type": "code",
   "execution_count": 47,
   "id": "14585e01-d132-45ed-b086-e9033c7596c6",
   "metadata": {},
   "outputs": [
    {
     "name": "stdout",
     "output_type": "stream",
     "text": [
      "30 38 61\n"
     ]
    }
   ],
   "source": [
    "with open(\"MY_file.txt\",mode='xt') as f:\n",
    "    a1 = f.write(\"pyhton is interpret language.\\n\")\n",
    "    a2 = f.write(\"It is high level programming languag.\\n\")\n",
    "    a3 = f.write(\"Python is a widely used language for general purpose coding.\\n\")\n",
    "    print(a1,a2,a3)\n",
    "   "
   ]
  },
  {
   "cell_type": "code",
   "execution_count": 48,
   "id": "485b8426-f054-4055-a868-1f8fb6d14c99",
   "metadata": {},
   "outputs": [
    {
     "name": "stdout",
     "output_type": "stream",
     "text": [
      "pyhton is interpret language.\n",
      "It is high level programming languag.\n",
      "Python is a widely used language for general purpose coding.\n",
      "\n"
     ]
    }
   ],
   "source": [
    "with open(\"MY_file.txt\",mode='rt') as f:\n",
    "  data = f.read()\n",
    "  print(data)\n",
    "    "
   ]
  },
  {
   "cell_type": "code",
   "execution_count": null,
   "id": "537dfe6d-57ac-43c8-91bd-355020c13359",
   "metadata": {},
   "outputs": [],
   "source": []
  },
  {
   "cell_type": "code",
   "execution_count": 33,
   "id": "33641ed5-aa2c-49f2-8457-fbff9308850b",
   "metadata": {},
   "outputs": [],
   "source": [
    "# 3. Append a line \"This is appended text.\" to an existing file without overwriting existing content."
   ]
  },
  {
   "cell_type": "code",
   "execution_count": 49,
   "id": "aaf2fd3a-ac7a-4808-b13f-1f301cf7890d",
   "metadata": {},
   "outputs": [
    {
     "name": "stdout",
     "output_type": "stream",
     "text": [
      "22\n"
     ]
    }
   ],
   "source": [
    "with open(\"MY_file.txt\",mode='at') as f:\n",
    "  n = f.write(\"This is appended text.\")\n",
    "  print(n)"
   ]
  },
  {
   "cell_type": "code",
   "execution_count": 50,
   "id": "814021b5-805e-4c6a-8479-0b0d399e521b",
   "metadata": {},
   "outputs": [
    {
     "name": "stdout",
     "output_type": "stream",
     "text": [
      "pyhton is interpret language.\n",
      "It is high level programming languag.\n",
      "Python is a widely used language for general purpose coding.\n",
      "This is appended text.\n"
     ]
    }
   ],
   "source": [
    "with open(\"MY_file.txt\", mode='rt') as f:\n",
    "   Data = f.read()\n",
    "   print(Data)"
   ]
  },
  {
   "cell_type": "code",
   "execution_count": null,
   "id": "5f428b0c-b1ad-493e-8b41-772f24ec2ac0",
   "metadata": {},
   "outputs": [],
   "source": []
  },
  {
   "cell_type": "code",
   "execution_count": 51,
   "id": "e1c78df9-549b-494d-bbc6-caa618bf7521",
   "metadata": {},
   "outputs": [],
   "source": [
    "# 4. Count the number of words in a given text file.\n"
   ]
  },
  {
   "cell_type": "code",
   "execution_count": 52,
   "id": "eb975de4-7837-4aeb-bb4a-be9c66d49e6b",
   "metadata": {},
   "outputs": [
    {
     "name": "stdout",
     "output_type": "stream",
     "text": [
      "Total number of words: 24\n"
     ]
    }
   ],
   "source": [
    "with open(\"MY_file.txt\", \"r\") as file:\n",
    "    content = file.read()\n",
    "    words = content.split()\n",
    "    word_count = len(words)\n",
    "\n",
    "print(f\"Total number of words: {word_count}\")\n"
   ]
  },
  {
   "cell_type": "code",
   "execution_count": null,
   "id": "4f93bc84-3427-4f94-a201-90f24f1d3676",
   "metadata": {},
   "outputs": [],
   "source": []
  },
  {
   "cell_type": "code",
   "execution_count": 53,
   "id": "83bbbe06-33e6-4fb1-b857-cdc65e9a26d3",
   "metadata": {},
   "outputs": [],
   "source": [
    "# 5. Count the number of lines in a file.\n"
   ]
  },
  {
   "cell_type": "code",
   "execution_count": 54,
   "id": "95d61506-0612-4a68-b8b9-aeb2d36f8d64",
   "metadata": {},
   "outputs": [
    {
     "name": "stdout",
     "output_type": "stream",
     "text": [
      "Total number of words: 4\n"
     ]
    }
   ],
   "source": [
    "with open(\"MY_file.txt\") as file:\n",
    "    lines = file.readlines()\n",
    "    total_lines = len(lines)\n",
    "\n",
    "print(f\"Total number of words: {total_lines}\")"
   ]
  },
  {
   "cell_type": "code",
   "execution_count": null,
   "id": "a2e8c3af-1cc7-4fc2-a41e-6fbc22ce4650",
   "metadata": {},
   "outputs": [],
   "source": []
  },
  {
   "cell_type": "code",
   "execution_count": 55,
   "id": "c93ddd6f-3acd-4983-a1df-7a144a8731d6",
   "metadata": {},
   "outputs": [],
   "source": [
    "# 6. Create a file, write multiple lines, then read and print only lines that contain the word \"Python\"."
   ]
  },
  {
   "cell_type": "code",
   "execution_count": 65,
   "id": "372aafb0-4b8f-4bf5-9b66-0799d4503f05",
   "metadata": {},
   "outputs": [
    {
     "name": "stdout",
     "output_type": "stream",
     "text": [
      "30 38 61\n"
     ]
    }
   ],
   "source": [
    "with open(\"python_file.txt\",mode='xt') as f:\n",
    "    x = f.write(\"pyhton is interpret language.\\n\")\n",
    "    y = f.write(\"It is high level programming languag.\\n\")\n",
    "    z = f.write(\"Python is a widely used language for general purpose coding.\\n\")\n",
    "    print(x,y,z)\n",
    "\n"
   ]
  },
  {
   "cell_type": "code",
   "execution_count": 22,
   "id": "49663500-b5e6-4081-a1db-5e8673c11d83",
   "metadata": {},
   "outputs": [],
   "source": [
    "with open(\"python_file.txt\",mode='rt') as f:\n",
    "    lines = f.readlines()\n",
    "    total_lines = len(lines)\n",
    "    for i in f:\n",
    "     if \"pyhton\" in f:\n",
    "      print(total_lines)     \n",
    "\n"
   ]
  },
  {
   "cell_type": "code",
   "execution_count": null,
   "id": "2ed79c54-e563-4400-ae1b-2e5dca82d526",
   "metadata": {},
   "outputs": [],
   "source": []
  },
  {
   "cell_type": "code",
   "execution_count": 8,
   "id": "04491592-c935-4a41-82fd-2740044d92b3",
   "metadata": {},
   "outputs": [],
   "source": [
    "# 7. Check whether a file exists or not before opening it."
   ]
  },
  {
   "cell_type": "code",
   "execution_count": 9,
   "id": "c29f96ca-f3bf-494a-830f-54b00fdfc973",
   "metadata": {},
   "outputs": [
    {
     "name": "stdout",
     "output_type": "stream",
     "text": [
      "File does not exist.\n"
     ]
    }
   ],
   "source": [
    "try:\n",
    "    with open(\"one_file\", 'r') as file:\n",
    "        data = file.read()\n",
    "        print(data)\n",
    "except FileNotFoundError:\n",
    "    print(\"File does not exist.\")\n",
    "else:\n",
    "    print(\"File already exist.\")\n"
   ]
  },
  {
   "cell_type": "code",
   "execution_count": null,
   "id": "054dd296-3829-47f6-8af8-ad0344dea485",
   "metadata": {},
   "outputs": [],
   "source": []
  },
  {
   "cell_type": "code",
   "execution_count": 91,
   "id": "df0f76f5-c6cd-4e9b-989f-08a6e0b94aeb",
   "metadata": {},
   "outputs": [],
   "source": [
    "# 8. Write a program to copy the content of one file to another."
   ]
  },
  {
   "cell_type": "code",
   "execution_count": 12,
   "id": "ed6d5419-7916-4ac8-95b3-ddd882af0df9",
   "metadata": {},
   "outputs": [
    {
     "name": "stdout",
     "output_type": "stream",
     "text": [
      "pyhton is interpret language.\n",
      "It is high level programming languag.\n",
      "Python is a widely used language for general purpose coding.\n",
      "\n",
      "File content copied successfully!\n"
     ]
    }
   ],
   "source": [
    "with open('python_file.txt', 'rt') as first_file:\n",
    "    content = first_file.read()\n",
    "\n",
    "with open('destination.txt', 'wt') as destination_file:\n",
    "    destination_file.write(content)\n",
    "    \n",
    "with open('destination.txt', 'rt') as file:\n",
    "    r = file.read()\n",
    "    print(r)\n",
    "print(\"File content copied successfully!\")\n"
   ]
  },
  {
   "cell_type": "code",
   "execution_count": null,
   "id": "5e419f12-d140-43e6-a284-e5401c779d2d",
   "metadata": {},
   "outputs": [],
   "source": []
  },
  {
   "cell_type": "code",
   "execution_count": 26,
   "id": "50d58e0f-77a3-4c0e-9770-5af5eef8b643",
   "metadata": {},
   "outputs": [],
   "source": [
    "# 9. Store 5 student names in a file and then read the file and print each name with serial number."
   ]
  },
  {
   "cell_type": "code",
   "execution_count": 8,
   "id": "b6a883de-ae9e-4c60-bff1-3b9354013d5e",
   "metadata": {},
   "outputs": [
    {
     "name": "stdout",
     "output_type": "stream",
     "text": [
      "1.Ravina\n",
      "2.Ritika\n",
      "3.Aman\n",
      "4.Amit\n",
      "5.Suraj\n",
      "\n"
     ]
    }
   ],
   "source": [
    "with open(\"student_data.txt\",mode='wt') as stu:\n",
    "   s1 =  stu.write(\"1.Ravina\\n\")\n",
    "   s2 =  stu.write(\"2.Ritika\\n\")    \n",
    "   s3 =  stu.write(\"3.Aman\\n\")    \n",
    "   s4 =  stu.write(\"4.Amit\\n\")    \n",
    "   s5 =  stu.write(\"5.Suraj\\n\") \n",
    "\n",
    "\n",
    "with open('student_data.txt', 'rt') as stu:\n",
    "    student = stu.read()\n",
    "    print(student)"
   ]
  },
  {
   "cell_type": "code",
   "execution_count": null,
   "id": "fe8f23aa-8f9e-49a9-8b0d-5d8107b2a7c8",
   "metadata": {},
   "outputs": [],
   "source": []
  },
  {
   "cell_type": "code",
   "execution_count": 9,
   "id": "e115bdae-6f65-4334-9050-3e5d1c8959a2",
   "metadata": {},
   "outputs": [],
   "source": [
    "# 10. Create a file, write some numbers in it, then read the file and print the sum of all numbers."
   ]
  },
  {
   "cell_type": "code",
   "execution_count": 24,
   "id": "90a0a02f-1445-40b0-88e7-6b3b7b46a3ad",
   "metadata": {},
   "outputs": [
    {
     "name": "stdout",
     "output_type": "stream",
     "text": [
      "The sum of all numbers in the file is: 150\n"
     ]
    }
   ],
   "source": [
    "with open(\"numbers.txt\", \"w\") as file:\n",
    "    numbers = [10, 20, 30, 40, 50] \n",
    "    for number in numbers:\n",
    "        file.write(f\"{number}\\n\") \n",
    "\n",
    "total_sum = 0\n",
    "with open(\"numbers.txt\", \"r\") as file:\n",
    "    for line in file:\n",
    "        total_sum += int(line.strip())\n",
    "        \n",
    "print(\"The sum of all numbers in the file is:\", total_sum)\n"
   ]
  },
  {
   "cell_type": "code",
   "execution_count": null,
   "id": "d87b40cc-b3dd-459b-bbe0-3572fb271c46",
   "metadata": {},
   "outputs": [],
   "source": []
  }
 ],
 "metadata": {
  "kernelspec": {
   "display_name": "Python 3 (ipykernel)",
   "language": "python",
   "name": "python3"
  },
  "language_info": {
   "codemirror_mode": {
    "name": "ipython",
    "version": 3
   },
   "file_extension": ".py",
   "mimetype": "text/x-python",
   "name": "python",
   "nbconvert_exporter": "python",
   "pygments_lexer": "ipython3",
   "version": "3.12.7"
  }
 },
 "nbformat": 4,
 "nbformat_minor": 5
}
